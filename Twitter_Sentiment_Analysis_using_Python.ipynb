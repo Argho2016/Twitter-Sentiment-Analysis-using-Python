{
  "nbformat": 4,
  "nbformat_minor": 0,
  "metadata": {
    "colab": {
      "name": "Twitter Sentiment Analysis using Python.ipynb",
      "provenance": []
    },
    "kernelspec": {
      "name": "python3",
      "display_name": "Python 3"
    },
    "language_info": {
      "name": "python"
    }
  },
  "cells": [
    {
      "cell_type": "code",
      "execution_count": 1,
      "metadata": {
        "id": "X_Xm0PYZnm9O"
      },
      "outputs": [],
      "source": [
        "import tweepy"
      ]
    },
    {
      "cell_type": "code",
      "source": [
        "from textblob import TextBlob"
      ],
      "metadata": {
        "id": "knjj9wCroCzo"
      },
      "execution_count": 2,
      "outputs": []
    },
    {
      "cell_type": "code",
      "source": [
        "consumer_key = 'KOJP3MGrhp9QXJpAiQo2gH51a'\n",
        "consumer_secret = 'M9xyiamDrQCsDAthzQVRXVwL2Dx9w2clwLAA83sfluBiFYfM8y'\n",
        "access_token = '1532695912593903616-xBFdRvpqumYyycO9eL5tOw4dkYAgcC'\n",
        "access_token_secret = 'UpowcugB5gwc7BOy5ggT6zLtJT5Q8rAcum6umvty9utNb'\n",
        "auth = tweepy.OAuthHandler( consumer_key , consumer_secret )\n",
        "auth.set_access_token( access_token , access_token_secret )\n",
        "api = tweepy.API( auth )\n",
        "public_tweets = api.search('Dragon Ball Super Super Hero')\n",
        "for tweet in public_tweets:\n",
        "    print(tweet.text)\n",
        "    analysis = TextBlob(tweet.text)\n",
        "    print(analysis.sentiment)"
      ],
      "metadata": {
        "colab": {
          "base_uri": "https://localhost:8080/"
        },
        "id": "zEWFw37doSaE",
        "outputId": "77b8f383-4f44-4f83-d6d6-dc419acc9033"
      },
      "execution_count": 4,
      "outputs": [
        {
          "output_type": "stream",
          "name": "stdout",
          "text": [
            "RT @DailyMangas: Dragon Ball Super: Super Hero (2022)\n",
            "KA : Chikashi Kubota (久保田 誓) https://t.co/1Ns6JYfeBv\n",
            "Sentiment(polarity=0.3333333333333333, subjectivity=0.6666666666666666)\n",
            "RT @DailyMangas: Dragon Ball Super: Super Hero (2022)\n",
            "KA : Chikashi Kubota (久保田 誓) https://t.co/1Ns6JYfeBv\n",
            "Sentiment(polarity=0.3333333333333333, subjectivity=0.6666666666666666)\n",
            "RT @DailyMangas: Dragon Ball Super: Super Hero (2022)\n",
            "KA : Chikashi Kubota (久保田 誓) https://t.co/1Ns6JYfeBv\n",
            "Sentiment(polarity=0.3333333333333333, subjectivity=0.6666666666666666)\n",
            "RT @DBPerfectShots: First 2 minutes of Dragon Ball Super: Super Hero (2022). https://t.co/vb1FBwYbqx\n",
            "Sentiment(polarity=0.3055555555555555, subjectivity=0.5555555555555555)\n",
            "RT @DailyMangas: Dragon Ball Super: Super Hero (2022)\n",
            "KA : Chikashi Kubota (久保田 誓) https://t.co/1Ns6JYfeBv\n",
            "Sentiment(polarity=0.3333333333333333, subjectivity=0.6666666666666666)\n",
            "RT @DBPerfectShots: First 2 minutes of Dragon Ball Super: Super Hero (2022). https://t.co/vb1FBwYbqx\n",
            "Sentiment(polarity=0.3055555555555555, subjectivity=0.5555555555555555)\n",
            "RT @MrKaytos: ¡OFICIAL! \n",
            "\n",
            "La elección del estilo visual en CGI de la película de \"Dragon Ball Super: Super Hero\" fue INTENCIONADA y NO un R…\n",
            "Sentiment(polarity=0.2222222222222222, subjectivity=0.4444444444444444)\n",
            "Okay... I have been a defender of the Dragon Ball Super: Super Hero movie's use of 3D CG animation by saying it's p… https://t.co/rMdCZWTGNO\n",
            "Sentiment(polarity=0.38888888888888884, subjectivity=0.611111111111111)\n",
            "RT @DBPerfectShots: Dragon Ball Z (1992) / Dragon Ball Super: Super Hero (2022). https://t.co/7YMUaK79Yr\n",
            "Sentiment(polarity=0.3333333333333333, subjectivity=0.6666666666666666)\n",
            "RT @SLOplays: I can't get over how gorgeous these flashback scenes are from Dragon Ball Super Hero. Need this movie now 😩 https://t.co/y8bk…\n",
            "Sentiment(polarity=0.5166666666666666, subjectivity=0.7833333333333333)\n",
            "RT @WatchmenID: Dragon Ball Super: Super Hero bakal tayang di Indonesia!\n",
            "\n",
            "https://t.co/husJaGvEAQ\n",
            "Sentiment(polarity=0.375, subjectivity=0.6666666666666666)\n",
            "srx ma TL cest 70% de \"DRAGON BALL SUPER HERO FLASHBACK\"\n",
            "Sentiment(polarity=0.3333333333333333, subjectivity=0.6666666666666666)\n",
            "RT @DailyMangas: Dragon Ball Super: Super Hero (2022)\n",
            "KA : Chikashi Kubota (久保田 誓) https://t.co/1Ns6JYfeBv\n",
            "Sentiment(polarity=0.3333333333333333, subjectivity=0.6666666666666666)\n",
            "RT @BlacKaizoku: Les 3 premières minutes de Dragon Ball Super Hero… https://t.co/xtVZ8O2WGg\n",
            "Sentiment(polarity=0.3333333333333333, subjectivity=0.6666666666666666)\n",
            "RT @DailyMangas: Dragon Ball Super: Super Hero (2022)\n",
            "KA : Chikashi Kubota (久保田 誓) https://t.co/1Ns6JYfeBv\n",
            "Sentiment(polarity=0.3333333333333333, subjectivity=0.6666666666666666)\n"
          ]
        }
      ]
    },
    {
      "cell_type": "code",
      "source": [
        ""
      ],
      "metadata": {
        "id": "wWR53b_PrjVk"
      },
      "execution_count": null,
      "outputs": []
    }
  ]
}